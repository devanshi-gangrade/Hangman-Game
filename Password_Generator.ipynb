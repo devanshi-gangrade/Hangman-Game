{
  "nbformat": 4,
  "nbformat_minor": 0,
  "metadata": {
    "colab": {
      "provenance": []
    },
    "kernelspec": {
      "name": "python3",
      "display_name": "Python 3"
    },
    "language_info": {
      "name": "python"
    }
  },
  "cells": [
    {
      "cell_type": "code",
      "source": [
        "import random\n",
        "\n",
        "letters = ['a', 'b', 'c', 'd', 'e', 'f', 'g', 'h', 'i', 'j', 'k', 'l', 'm', 'n', 'o', 'p', 'q', 'r', 's', 't', 'u', 'v', 'w', 'x', 'y', 'z',\n",
        "           'A', 'B', 'C', 'D', 'E', 'F', 'G', 'H', 'I', 'J', 'K', 'L', 'M', 'N', 'O', 'P', 'Q', 'R', 'S', 'T', 'U', 'V', 'W', 'X', 'Y', 'Z']\n",
        "\n",
        "numbers = ['0', '1', '2', '3', '4', '5', '6', '7', '8', '9']\n",
        "\n",
        "symbols = ['!', '#', '$', '%', '&', '(', ')', '*', '+']\n",
        "\n",
        "print(\"Password Generator\")\n",
        "n_letter = input(\"How many letters in password?\\n\")\n",
        "n_number = input(\"How many numbers in password?\\n\")\n",
        "n_symbols = input(\"How many symbols in password?\\n\")\n",
        "\n",
        "password = []\n",
        "\n",
        "# Add random letters\n",
        "for i in range(1, int(n_letter) + 1):\n",
        "    password += random.choice(letters)\n",
        "\n",
        "# Add random numbers\n",
        "for i in range(1, int(n_number) + 1):\n",
        "    password += random.choice(numbers)\n",
        "\n",
        "# Add random symbols\n",
        "for i in range(1, int(n_symbols) + 1):\n",
        "    password += random.choice(symbols)\n",
        "\n",
        "# Shuffle the password\n",
        "random.shuffle(password)\n",
        "\n",
        "# Convert list to string\n",
        "password_st = ''.join(password)\n",
        "\n",
        "print(\"\\nYour Password is: \" + password_st)\n"
      ],
      "metadata": {
        "colab": {
          "base_uri": "https://localhost:8080/"
        },
        "id": "SyBd3h0BDgmv",
        "outputId": "b405a4b5-1189-4c65-ce21-d60a9aeb321e"
      },
      "execution_count": 4,
      "outputs": [
        {
          "output_type": "stream",
          "name": "stdout",
          "text": [
            "Password Generator\n",
            "How many letters in password?\n",
            "3\n",
            "How many numbers in password?\n",
            "2\n",
            "How many symbols in password?\n",
            "3\n",
            "\n",
            "Your Password is: 4QE!!c*1\n"
          ]
        }
      ]
    },
    {
      "cell_type": "code",
      "source": [],
      "metadata": {
        "id": "9BV8waZ3EvSf"
      },
      "execution_count": null,
      "outputs": []
    }
  ]
}