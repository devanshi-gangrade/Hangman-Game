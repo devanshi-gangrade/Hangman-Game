{
  "nbformat": 4,
  "nbformat_minor": 0,
  "metadata": {
    "colab": {
      "provenance": []
    },
    "kernelspec": {
      "name": "python3",
      "display_name": "Python 3"
    },
    "language_info": {
      "name": "python"
    }
  },
  "cells": [
    {
      "cell_type": "code",
      "execution_count": 4,
      "metadata": {
        "colab": {
          "base_uri": "https://localhost:8080/"
        },
        "id": "jmd-v1lV7azP",
        "outputId": "5b3cfd89-ffc4-4213-c6de-292b5fc83bb2"
      },
      "outputs": [
        {
          "output_type": "stream",
          "name": "stdout",
          "text": [
            "Welcome to Hangman!\n",
            "Category: Movie Genre\n",
            "\n",
            "_ _ _ _ _ _\n",
            "You have 7 attempts remaining.\n",
            "Guess a letter: h\n",
            "Correct guess!\n",
            "\n",
            "h _ _ _ _ _\n",
            "You have 7 attempts remaining.\n",
            "Guess a letter: a\n",
            "Wrong guess!\n",
            "\n",
            "h _ _ _ _ _\n",
            "You have 6 attempts remaining.\n",
            "Guess a letter: o\n",
            "Correct guess!\n",
            "\n",
            "h o _ _ o _\n",
            "You have 6 attempts remaining.\n",
            "Guess a letter: s\n",
            "Wrong guess!\n",
            "\n",
            "h o _ _ o _\n",
            "You have 5 attempts remaining.\n",
            "Guess a letter: p\n",
            "Wrong guess!\n",
            "\n",
            "h o _ _ o _\n",
            "You have 4 attempts remaining.\n",
            "Guess a letter: e\n",
            "Wrong guess!\n",
            "\n",
            "h o _ _ o _\n",
            "You have 3 attempts remaining.\n",
            "Guess a letter: r\n",
            "Correct guess!\n",
            "\n",
            "Congratulations, you win!\n",
            "The word was: horror\n"
          ]
        }
      ],
      "source": [
        "import random\n",
        "\n",
        "# List of words\n",
        "words = ['horror', 'thriller', 'romance', 'drama', 'action', 'comedy']\n",
        "# Randomly choose a word from the list\n",
        "chosen_word = random.choice(words).lower()\n",
        "\n",
        "# Display word with blanks\n",
        "word_display = ['_' for _ in chosen_word]\n",
        "\n",
        "# Number of attempts allowed\n",
        "attempts = 7\n",
        "\n",
        "# Hangman game logic\n",
        "print(\"Welcome to Hangman!\")\n",
        "print(\"Category: Movie Genre\")\n",
        "\n",
        "while attempts > 0 and '_' in word_display:\n",
        "    print(\"\\n\" + ' '.join(word_display))  # Show current progress\n",
        "    print(f\"You have {attempts} attempts remaining.\")\n",
        "    guess = input(\"Guess a letter: \").lower()\n",
        "\n",
        "    if len(guess) != 1 or not guess.isalpha():\n",
        "        print(\"Please enter a single valid letter.\")\n",
        "        continue\n",
        "\n",
        "    if guess in chosen_word:\n",
        "        if guess in word_display:\n",
        "            print(\"You already guessed that letter!\")\n",
        "        else:\n",
        "            print(\"Correct guess!\")\n",
        "            for index, letter in enumerate(chosen_word):\n",
        "                if letter == guess:\n",
        "                    word_display[index] = guess\n",
        "    else:\n",
        "        print(\"Wrong guess!\")\n",
        "        attempts -= 1  # Decrease attempts only for wrong guesses\n",
        "\n",
        "if '_' not in word_display:\n",
        "    print(\"\\nCongratulations, you win!\")\n",
        "    print(\"The word was:\", chosen_word)\n",
        "else:\n",
        "    print(\"\\nYou are out of attempts.\")\n",
        "    print(\"The word was:\", chosen_word)\n",
        "    print(\"You lost. Better luck next time!\")\n"
      ]
    },
    {
      "cell_type": "code",
      "source": [],
      "metadata": {
        "id": "ttodJTNd8fTf"
      },
      "execution_count": null,
      "outputs": []
    }
  ]
}