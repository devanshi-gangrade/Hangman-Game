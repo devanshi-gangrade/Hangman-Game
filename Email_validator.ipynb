{
  "nbformat": 4,
  "nbformat_minor": 0,
  "metadata": {
    "colab": {
      "provenance": []
    },
    "kernelspec": {
      "name": "python3",
      "display_name": "Python 3"
    },
    "language_info": {
      "name": "python"
    }
  },
  "cells": [
    {
      "cell_type": "code",
      "source": [
        "def validate_email():\n",
        "    email = input(\"Enter email address: \")\n",
        "\n",
        "\n",
        "    # Flags to track invalid conditions\n",
        "    k, j, d = 0, 0, 0\n",
        "\n",
        "    if len(email) >= 6:\n",
        "        if email[0].isalpha():  # First character must be alphabetic\n",
        "            if \"@\" in email and email.count(\"@\") == 1:  # Exactly one '@' symbol\n",
        "                if \".\" in email and (email[-4] == \".\" or email[-3] == \".\"):  # Dot at the correct position\n",
        "                    for i in email:\n",
        "                        if i.isspace():  # Check for spaces\n",
        "                            k = 1\n",
        "                        elif i.isalpha():\n",
        "                            if i.isupper():  # Uppercase letters not allowed\n",
        "                                j = 1\n",
        "                        elif i.isdigit():  # Digits are allowed\n",
        "                            continue\n",
        "                        elif i in \"@._\":  # '@', '.', and '_' are allowed\n",
        "                            continue\n",
        "                        else:  # Any other special character\n",
        "                            d = 1\n",
        "\n",
        "                    # Check flags for invalid conditions\n",
        "                    if k == 1 or j == 1 or d == 1:\n",
        "                        print(\"Wrong email (invalid characters or format).\")\n",
        "                        reset_validation()\n",
        "                    else:\n",
        "                        print(\"Email verified!\")\n",
        "                else:\n",
        "                    print(\"Wrong email (invalid '.' placement).\")\n",
        "                    reset_validation()\n",
        "            else:\n",
        "                print(\"Wrong email (invalid '@').\")\n",
        "                reset_validation()\n",
        "        else:\n",
        "            print(\"Wrong email (first character must be a letter).\")\n",
        "            reset_validation()\n",
        "    else:\n",
        "        print(\"Wrong email (too short).\")\n",
        "        reset_validation()\n",
        "\n",
        "\n",
        "def reset_validation():\n",
        "    print(\"Please try again.\")\n",
        "    validate_email()  # Restart email validation\n",
        "\n",
        "\n",
        "# Start email validation\n",
        "validate_email()\n"
      ],
      "metadata": {
        "colab": {
          "base_uri": "https://localhost:8080/"
        },
        "id": "a8GpyDRQeVPF",
        "outputId": "a7e53d59-d436-4b5c-a816-fd2ec69c69eb"
      },
      "execution_count": 11,
      "outputs": [
        {
          "output_type": "stream",
          "name": "stdout",
          "text": [
            "Enter email address: dg\n",
            "Wrong email (too short).\n",
            "Please try again.\n",
            "Enter email address: 1dg@gmail\n",
            "Wrong email (first character must be a letter).\n",
            "Please try again.\n",
            "Enter email address: dg@1@gmail.com\n",
            "Wrong email (invalid '@').\n",
            "Please try again.\n",
            "Enter email address: dg@gmail.c\n",
            "Wrong email (invalid '.' placement).\n",
            "Please try again.\n",
            "Enter email address: DG@gmail.com\n",
            "Wrong email (invalid characters or format).\n",
            "Please try again.\n",
            "Enter email address: d#g@gmail.com\n",
            "Wrong email (invalid characters or format).\n",
            "Please try again.\n",
            "Enter email address: dg@gmail.com\n",
            "Email verified!\n"
          ]
        }
      ]
    },
    {
      "cell_type": "code",
      "source": [],
      "metadata": {
        "id": "m6Uuhj4ZfMCL"
      },
      "execution_count": null,
      "outputs": []
    }
  ]
}